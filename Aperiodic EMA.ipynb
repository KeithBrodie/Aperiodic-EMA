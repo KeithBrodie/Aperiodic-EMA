{
 "cells": [
  {
   "cell_type": "markdown",
   "metadata": {},
   "source": [
    "#  EMA for Aperiodic Quotes"
   ]
  },
  {
   "cell_type": "markdown",
   "metadata": {},
   "source": [
    "## Introduction"
   ]
  },
  {
   "cell_type": "markdown",
   "metadata": {},
   "source": [
    "Background on the simple moving average (SMA) and exponential moving average (EMA) is available on [Wikipedia](https://en.wikipedia.org/wiki/Moving_average).  The discussion there references the number of periods, $n$, of a moving average.  The period is the fixed time-interval between new input data samples: daily, hourly, ..."
   ]
  },
  {
   "cell_type": "markdown",
   "metadata": {},
   "source": [
    "In many applications quotes are updated as changes in an order book occur and are therefore *aperiodic*.  The new inputs are not available at fixed time steps, and the number of periods, $n$, is not meaningful.  One approach to moving averages with aperiodic inputs is to resample the input data stream periodically.  That works, but it also introduces a lag between the arrival of new data and computation of an updated EMA value."
   ]
  },
  {
   "cell_type": "markdown",
   "metadata": {},
   "source": [
    "This notebook derives and demonstrates the algorithm to update the EMA for an aperiodic data stream without resampling."
   ]
  },
  {
   "cell_type": "markdown",
   "metadata": {},
   "source": [
    "Loosely echoing Wikipedia notation, the periodic EMA is:\n",
    "$$S_{j+1} = S_j + k \\cdot (Y_{j+1} - S_j) $$\n",
    "\n",
    "where:  \n",
    "$S_j$ is the EMA estimate at step $j$  \n",
    "$Y_j$ is the new data at step $j$  \n",
    "$k$ is the EMA gain."
   ]
  },
  {
   "cell_type": "markdown",
   "metadata": {},
   "source": [
    "$$ k = \\frac 2{n+1} $$\n",
    "where $n$ is the number of periods."
   ]
  },
  {
   "cell_type": "markdown",
   "metadata": {},
   "source": [
    "The gain, $k$, is derived by equating the first moment of the sum of the weights from the EMA with that of an $n$-period SM.  It defines an EMA in which the weighted-average age of the data used in the EMA is the same as that of an $n$-period SMA. "
   ]
  },
  {
   "cell_type": "markdown",
   "metadata": {},
   "source": [
    "## Background - Exponential Decay"
   ]
  },
  {
   "cell_type": "markdown",
   "metadata": {},
   "source": [
    "The EMA weights are derived from the exponential decay model.  A signal or process with exponential decay from an initial value at time zero follows this trajectory:"
   ]
  },
  {
   "cell_type": "markdown",
   "metadata": {},
   "source": [
    "$$ z(t)= z(0) \\cdot e^{\\frac {-t}{\\tau}} $$"
   ]
  },
  {
   "cell_type": "markdown",
   "metadata": {},
   "source": [
    "The value $\\tau$ is the time constant of the exponential decay."
   ]
  },
  {
   "cell_type": "code",
   "execution_count": 1,
   "metadata": {},
   "outputs": [],
   "source": [
    "import numpy as np\n",
    "import matplotlib.pyplot as plt"
   ]
  },
  {
   "cell_type": "code",
   "execution_count": 2,
   "metadata": {},
   "outputs": [
    {
     "data": {
      "image/png": "[encoded data removed]",
      "text/plain": [
       "<Figure size 432x288 with 1 Axes>"
      ]
     },
     "metadata": {},
     "output_type": "display_data"
    }
   ],
   "source": [
    "t=np.linspace(0.0,3.0,301)\n",
    "decay = np.exp(-t)\n",
    "plt.plot(t,decay)\n",
    "plt.xlabel('t/Tau')\n",
    "plt.ylabel('z(t)')\n",
    "plt.title('Exponential Decay with Time Constant Tau')\n",
    "plt.grid()"
   ]
  },
  {
   "cell_type": "markdown",
   "metadata": {},
   "source": [
    "Some points from this curve are tabulated below."
   ]
  },
  {
   "cell_type": "markdown",
   "metadata": {},
   "source": [
    "| t/$\\tau$ |  z(t)  |  %  |\n",
    "|-------|--------|-----|\n",
    "|   0   |    1   | 100 |\n",
    "|   1   | 0.3679 |  37 |\n",
    "|   2   | 0.1353 |  14 |\n",
    "|   3   | 0.0498 |   5 |"
   ]
  },
  {
   "cell_type": "markdown",
   "metadata": {},
   "source": [
    "After an elapsed time of one time constant (t/$\\tau$ = 1), the original signal is down to 37% of its initial value."
   ]
  },
  {
   "cell_type": "markdown",
   "metadata": {},
   "source": [
    "## Exponential-Weight MA"
   ]
  },
  {
   "cell_type": "markdown",
   "metadata": {},
   "source": [
    "We can express the weights of an exponential moving average as a function of time, and we will need to for the aperiodic EMA.  Assuming we want to model weight decay with time constant $\\tau$ we then have the function $z(t)$ above to define the weight as a function of elapsed time.  So we can write down a time-based EMA update equation by using $z(\\Delta t)$ for weighting prior data."
   ]
  },
  {
   "cell_type": "markdown",
   "metadata": {},
   "source": [
    "$$ S_{(t+\\Delta t)} = (1-z(\\Delta t)) \\cdot Y_{(t+\\Delta t)} + z(\\Delta t) \\cdot S_{(t)} $$"
   ]
  },
  {
   "cell_type": "markdown",
   "metadata": {},
   "source": [
    "We can rearrange this as:\n",
    "$$ S_{(t+\\Delta t)} = S_{(t)} + (1-z(\\Delta t)) \\cdot (Y_{(t+\\Delta t)} - S_{(t)}) $$"
   ]
  },
  {
   "cell_type": "markdown",
   "metadata": {},
   "source": [
    "We recall the periodic financial EMA from above is:\n",
    "$$S_{j+1} = S_j + k \\cdot (Y_{j+1} - S_j) $$\n",
    "\n",
    "For $\\Delta$t fixed, the two are the same if we let \n",
    "$$k=1-z(\\Delta t)=1-e^{\\frac {-\\Delta t}{\\tau}}$$"
   ]
  },
  {
   "cell_type": "markdown",
   "metadata": {},
   "source": [
    "We have arranged the two forms of the fixed-interval EMA to look the same, but they use different gains. The aperidic gain, $k_A$ and the periodic gain $k_P$.\n",
    "$$k_A = 1 - e^{\\frac {-\\Delta t}{\\tau}}  \\\\\n",
    "k_P = \\frac 2{n+1} $$,"
   ]
  },
  {
   "cell_type": "markdown",
   "metadata": {},
   "source": [
    "To relate time constant $\\tau$ to number of periods $n$ we can set the gains equal and solve for $\\tau$."
   ]
  },
  {
   "cell_type": "markdown",
   "metadata": {},
   "source": [
    "$$ 1 - e^{\\frac {-\\Delta t}{\\tau}} = \\frac 2{n+1} $$"
   ]
  },
  {
   "cell_type": "markdown",
   "metadata": {},
   "source": [
    "$$ - e^{\\frac {-\\Delta t}{\\tau}} = \\frac {2-n-1}{n+1} $$"
   ]
  },
  {
   "cell_type": "markdown",
   "metadata": {},
   "source": [
    "$$ e^{\\frac {-\\Delta t}{\\tau}} = \\frac {n-1}{n+1} $$"
   ]
  },
  {
   "cell_type": "markdown",
   "metadata": {},
   "source": [
    "$$ \\frac {-\\Delta t}{\\tau} = \\log {\\frac {n-1}{n+1}} $$"
   ]
  },
  {
   "cell_type": "markdown",
   "metadata": {},
   "source": [
    "$$ \\frac {1}{\\tau} = \\frac {1}{-\\Delta t} \\cdot \\log {\\frac {n-1}{n+1}} $$"
   ]
  },
  {
   "cell_type": "markdown",
   "metadata": {},
   "source": [
    "$$ {\\tau} = {-\\Delta t} \\cdot \\frac {1}{\\log {\\frac {n-1}{n+1}}} $$"
   ]
  },
  {
   "cell_type": "markdown",
   "metadata": {},
   "source": [
    "It's not obvious what that looks like, so let's plot it"
   ]
  },
  {
   "cell_type": "code",
   "execution_count": 3,
   "metadata": {},
   "outputs": [
    {
     "data": {
      "text/plain": [
       "Text(0.5,1,'Exponential Decay Time Constant vs Number of Periods')"
      ]
     },
     "execution_count": 3,
     "metadata": {},
     "output_type": "execute_result"
    },
    {
     "data": {
      "image/png": "[encoded data removed]",
      "text/plain": [
       "<Figure size 432x288 with 1 Axes>"
      ]
     },
     "metadata": {},
     "output_type": "display_data"
    }
   ],
   "source": [
    "n=np.linspace(2,20,19)\n",
    "plt.plot(n,-1/np.log((n-1)/(n+1)),'+')\n",
    "plt.grid()\n",
    "plt.xlabel('n')\n",
    "plt.ylabel('Tau/$\\Delta$T')\n",
    "plt.title('Exponential Decay Time Constant vs Number of Periods')"
   ]
  },
  {
   "cell_type": "markdown",
   "metadata": {},
   "source": [
    "Clearly linear, so let's divide the time constant by $n$ to see the coefficient."
   ]
  },
  {
   "cell_type": "code",
   "execution_count": 4,
   "metadata": {},
   "outputs": [
    {
     "data": {
      "text/plain": [
       "Text(0.5,1,'(Time Constant / n) vs n')"
      ]
     },
     "execution_count": 4,
     "metadata": {},
     "output_type": "execute_result"
    },
    {
     "data": {
      "image/png": "[encoded data removed]",
      "text/plain": [
       "<Figure size 432x288 with 1 Axes>"
      ]
     },
     "metadata": {},
     "output_type": "display_data"
    }
   ],
   "source": [
    "n=np.linspace(2,50,49)\n",
    "plt.plot(n,-1/np.log((n-1)/(n+1))/n,'+')\n",
    "plt.grid()\n",
    "plt.xlabel('n')\n",
    "plt.ylabel('(1/n) $\\cdot$ Tau/$\\Delta$T')\n",
    "plt.title('(Time Constant / n) vs n')"
   ]
  },
  {
   "cell_type": "markdown",
   "metadata": {},
   "source": [
    "So we can now put together the relationship of the gains.  We know the explicit relationship between the number of periods and the exponential decay time constant is:\n",
    "$$ {\\tau} = {-\\Delta t} \\cdot \\frac {1}{\\log {\\frac {n-1}{n+1}}} $$\n",
    "However, we can see this relationship is asymptotically approaching\n",
    "$$ \\frac {\\tau}{\\Delta t \\cdot n} \\approx 0.5$$\n",
    "or\n",
    "$$ 2 \\tau \\approx n \\Delta t $$"
   ]
  },
  {
   "cell_type": "markdown",
   "metadata": {},
   "source": [
    "So, the $n$-period EMA is approximately equal to a time-based EMA with $n$ quote intervals equal to twice the decay time constant."
   ]
  },
  {
   "cell_type": "markdown",
   "metadata": {},
   "source": [
    "The physicist's EMA is a time-based equation, not a step-based equation.  We can use it for arbirary time-steps, the only wrinkle being we must compute the gain anew for each time-step.  We have two ways to compute this gain from the typical financial EMA parameters ($n$,$\\Delta t$).  The first is exact, the second approximate."
   ]
  },
  {
   "cell_type": "markdown",
   "metadata": {},
   "source": [
    "## Example Periodic vs Aperiodic EMA"
   ]
  },
  {
   "cell_type": "markdown",
   "metadata": {},
   "source": [
    "To check this we'll compare a periodic and aperiodic EMA from the same truth signal and see how they compare.  First we'll make a 20-period EMA of a sine wave."
   ]
  },
  {
   "cell_type": "code",
   "execution_count": 5,
   "metadata": {},
   "outputs": [],
   "source": [
    "Pts = 200\n",
    "n=20"
   ]
  },
  {
   "cell_type": "code",
   "execution_count": 6,
   "metadata": {},
   "outputs": [],
   "source": [
    "tPer = np.linspace(0.0,2.0*np.pi,Pts)"
   ]
  },
  {
   "cell_type": "code",
   "execution_count": 7,
   "metadata": {},
   "outputs": [],
   "source": [
    "yPer = np.sin(tPer)"
   ]
  },
  {
   "cell_type": "code",
   "execution_count": 8,
   "metadata": {},
   "outputs": [],
   "source": [
    "sPer = np.zeros(len(yPer))\n",
    "sPer[0] = yPer[0]"
   ]
  },
  {
   "cell_type": "code",
   "execution_count": 9,
   "metadata": {},
   "outputs": [],
   "source": [
    "kPer = 2.0 / (n + 1)"
   ]
  },
  {
   "cell_type": "code",
   "execution_count": 10,
   "metadata": {},
   "outputs": [],
   "source": [
    "for i in range(1,Pts):\n",
    "    sPer[i] = sPer[i-1] + kPer * (yPer[i] - sPer[i-1])"
   ]
  },
  {
   "cell_type": "code",
   "execution_count": 11,
   "metadata": {},
   "outputs": [
    {
     "data": {
      "image/png": "[encoded data removed]",
      "text/plain": [
       "<Figure size 432x288 with 1 Axes>"
      ]
     },
     "metadata": {},
     "output_type": "display_data"
    }
   ],
   "source": [
    "plt.plot(tPer,yPer)\n",
    "plt.plot(tPer,sPer)\n",
    "plt.legend(['sin()','EMA (n=20)'])\n",
    "plt.grid()"
   ]
  },
  {
   "cell_type": "markdown",
   "metadata": {},
   "source": [
    "### Now we will compute the EMA from aperidic samples"
   ]
  },
  {
   "cell_type": "markdown",
   "metadata": {},
   "source": [
    "Pick random sample times and sort them"
   ]
  },
  {
   "cell_type": "code",
   "execution_count": 13,
   "metadata": {},
   "outputs": [],
   "source": [
    "t=(2.0 * np.pi * np.random.rand(Pts))"
   ]
  },
  {
   "cell_type": "code",
   "execution_count": 14,
   "metadata": {},
   "outputs": [],
   "source": [
    "t.sort()"
   ]
  },
  {
   "cell_type": "code",
   "execution_count": 15,
   "metadata": {},
   "outputs": [],
   "source": [
    "y=np.sin(t)"
   ]
  },
  {
   "cell_type": "code",
   "execution_count": 16,
   "metadata": {},
   "outputs": [],
   "source": [
    "s=np.zeros(Pts)\n",
    "k=np.zeros(Pts)"
   ]
  },
  {
   "cell_type": "code",
   "execution_count": 17,
   "metadata": {},
   "outputs": [],
   "source": [
    "s[0] = y[0]"
   ]
  },
  {
   "cell_type": "markdown",
   "metadata": {},
   "source": [
    "We compute the time constant for the time-based aperiodic EMA from the number of periods and time step size of the periodic EMA we want to match."
   ]
  },
  {
   "cell_type": "code",
   "execution_count": 18,
   "metadata": {},
   "outputs": [],
   "source": [
    "tau = - tPer[1] / np.log((n-1)/(n+1))"
   ]
  },
  {
   "cell_type": "markdown",
   "metadata": {},
   "source": [
    "This time constant is fixed, but the gain used in each step of the EMA update *does* vary with the size of the aperodic time-step."
   ]
  },
  {
   "cell_type": "code",
   "execution_count": 19,
   "metadata": {},
   "outputs": [],
   "source": [
    "for i in range(1,Pts):\n",
    "    dt = t[i] - t[i-1]\n",
    "    k[i] = 1.0 - np.exp(-dt/tau)\n",
    "    s[i] = s[i-1] + k[i] * (y[i] - s[i-1])"
   ]
  },
  {
   "cell_type": "code",
   "execution_count": 20,
   "metadata": {},
   "outputs": [
    {
     "data": {
      "text/plain": [
       "<matplotlib.legend.Legend at 0x7fbb1eefeef0>"
      ]
     },
     "execution_count": 20,
     "metadata": {},
     "output_type": "execute_result"
    },
    {
     "data": {
      "image/png": "[encoded data removed]",
      "text/plain": [
       "<Figure size 432x288 with 1 Axes>"
      ]
     },
     "metadata": {},
     "output_type": "display_data"
    }
   ],
   "source": [
    "plt.plot(tPer,yPer)\n",
    "plt.plot(tPer,sPer)\n",
    "plt.plot(t,s)\n",
    "plt.grid()\n",
    "plt.legend(['sin','Periodic EMA','Aperiodic EMA'])"
   ]
  },
  {
   "cell_type": "markdown",
   "metadata": {},
   "source": [
    "This works as it should.  The aperiodic EMA computed from random samples times matches the periodic EMA."
   ]
  },
  {
   "cell_type": "code",
   "execution_count": null,
   "metadata": {},
   "outputs": [],
   "source": []
  }
 ],
 "metadata": {
  "kernelspec": {
   "display_name": "Python 3",
   "language": "python",
   "name": "python3"
  },
  "language_info": {
   "codemirror_mode": {
    "name": "ipython",
    "version": 3
   },
   "file_extension": ".py",
   "mimetype": "text/x-python",
   "name": "python",
   "nbconvert_exporter": "python",
   "pygments_lexer": "ipython3",
   "version": "3.6.5"
  }
 },
 "nbformat": 4,
 "nbformat_minor": 2
}
